{
 "cells": [
  {
   "cell_type": "code",
   "execution_count": 2,
   "id": "6e9f7cb5-738d-44e8-bccb-350ed66dac11",
   "metadata": {},
   "outputs": [],
   "source": [
    "import pandas as pd"
   ]
  },
  {
   "cell_type": "code",
   "execution_count": 4,
   "id": "ad6398e0-c5b3-43bb-8f81-1a1bd855c401",
   "metadata": {},
   "outputs": [],
   "source": [
    "df = pd.read_csv(\"muna_order_dataset.csv\")"
   ]
  },
  {
   "cell_type": "code",
   "execution_count": 5,
   "id": "f0885107-5650-48dd-92c6-e754f0eeca17",
   "metadata": {},
   "outputs": [
    {
     "data": {
      "text/html": [
       "<div>\n",
       "<style scoped>\n",
       "    .dataframe tbody tr th:only-of-type {\n",
       "        vertical-align: middle;\n",
       "    }\n",
       "\n",
       "    .dataframe tbody tr th {\n",
       "        vertical-align: top;\n",
       "    }\n",
       "\n",
       "    .dataframe thead th {\n",
       "        text-align: right;\n",
       "    }\n",
       "</style>\n",
       "<table border=\"1\" class=\"dataframe\">\n",
       "  <thead>\n",
       "    <tr style=\"text-align: right;\">\n",
       "      <th></th>\n",
       "      <th>insta_pic_date</th>\n",
       "      <th>insta_pic_link</th>\n",
       "      <th>left</th>\n",
       "      <th>centre</th>\n",
       "      <th>right</th>\n",
       "      <th>holy_order</th>\n",
       "    </tr>\n",
       "  </thead>\n",
       "  <tbody>\n",
       "    <tr>\n",
       "      <th>0</th>\n",
       "      <td>May 19, 2021</td>\n",
       "      <td>https://www.instagram.com/p/CPDqngVp2MG/?hl=en</td>\n",
       "      <td>naomi</td>\n",
       "      <td>katie</td>\n",
       "      <td>josette</td>\n",
       "      <td>y</td>\n",
       "    </tr>\n",
       "    <tr>\n",
       "      <th>1</th>\n",
       "      <td>August 30, 2021</td>\n",
       "      <td>https://www.instagram.com/p/CTNGaKJrJy9/?hl=en...</td>\n",
       "      <td>na</td>\n",
       "      <td>na</td>\n",
       "      <td>na</td>\n",
       "      <td>na</td>\n",
       "    </tr>\n",
       "    <tr>\n",
       "      <th>2</th>\n",
       "      <td>September 1, 2021</td>\n",
       "      <td>https://www.instagram.com/p/CTSPV3-L-M2/?hl=en</td>\n",
       "      <td>naomi</td>\n",
       "      <td>katie</td>\n",
       "      <td>josette</td>\n",
       "      <td>y</td>\n",
       "    </tr>\n",
       "  </tbody>\n",
       "</table>\n",
       "</div>"
      ],
      "text/plain": [
       "      insta_pic_date                                     insta_pic_link  \\\n",
       "0       May 19, 2021     https://www.instagram.com/p/CPDqngVp2MG/?hl=en   \n",
       "1    August 30, 2021  https://www.instagram.com/p/CTNGaKJrJy9/?hl=en...   \n",
       "2  September 1, 2021     https://www.instagram.com/p/CTSPV3-L-M2/?hl=en   \n",
       "\n",
       "    left centre    right holy_order  \n",
       "0  naomi  katie  josette          y  \n",
       "1    na     na       na          na  \n",
       "2  naomi  katie  josette          y  "
      ]
     },
     "execution_count": 5,
     "metadata": {},
     "output_type": "execute_result"
    }
   ],
   "source": [
    "df.head(3)"
   ]
  },
  {
   "cell_type": "code",
   "execution_count": 11,
   "id": "730892e0-706f-43e4-8620-81be02079178",
   "metadata": {},
   "outputs": [],
   "source": [
    "#holy_order_count = df['holy_order?'] == 'y'\n",
    "#holy_order_count"
   ]
  },
  {
   "cell_type": "code",
   "execution_count": 6,
   "id": "f5661fa6-b91e-4191-a4a8-716ab6d3c7f4",
   "metadata": {},
   "outputs": [
    {
     "data": {
      "text/plain": [
       "holy_order\n",
       "na    112\n",
       "y      81\n",
       "n      81\n",
       "n      12\n",
       "Name: count, dtype: int64"
      ]
     },
     "execution_count": 6,
     "metadata": {},
     "output_type": "execute_result"
    }
   ],
   "source": [
    "#I'm trying to count the number of y and number of n in holy_order? column\n",
    "\n",
    "df.holy_order.value_counts()\n",
    "#The messed up count could be because I have white space?"
   ]
  },
  {
   "cell_type": "code",
   "execution_count": 15,
   "id": "e7966e2b-228e-4b2d-a8c2-b808c969ecb0",
   "metadata": {},
   "outputs": [
    {
     "data": {
      "text/plain": [
       "286"
      ]
     },
     "execution_count": 15,
     "metadata": {},
     "output_type": "execute_result"
    }
   ],
   "source": [
    "len(df)"
   ]
  },
  {
   "cell_type": "code",
   "execution_count": 10,
   "id": "b8e6b623-0a23-424e-bf34-87d8a00a66cc",
   "metadata": {},
   "outputs": [],
   "source": [
    "#Taking away white space\n",
    "df['holy_order'] = df['holy_order'].str.strip()"
   ]
  },
  {
   "cell_type": "code",
   "execution_count": 19,
   "id": "9796a1e5-1048-428b-9c62-077e43381751",
   "metadata": {},
   "outputs": [
    {
     "data": {
      "text/plain": [
       "holy_order\n",
       "na    112\n",
       "n      93\n",
       "y      81\n",
       "Name: count, dtype: int64"
      ]
     },
     "execution_count": 19,
     "metadata": {},
     "output_type": "execute_result"
    }
   ],
   "source": [
    "df.holy_order.value_counts()"
   ]
  },
  {
   "cell_type": "code",
   "execution_count": 8,
   "id": "a2130642-bbe9-4dde-a48a-9e51d7c4b1c0",
   "metadata": {},
   "outputs": [],
   "source": [
    "#I want to get rid of all the \"na\" rows\n",
    "df = df.drop(df[df['holy_order'] == 'na'].index)"
   ]
  },
  {
   "cell_type": "code",
   "execution_count": 23,
   "id": "1f93a750-79d1-4de9-8534-4cdf481cceaa",
   "metadata": {},
   "outputs": [
    {
     "data": {
      "text/html": [
       "<div>\n",
       "<style scoped>\n",
       "    .dataframe tbody tr th:only-of-type {\n",
       "        vertical-align: middle;\n",
       "    }\n",
       "\n",
       "    .dataframe tbody tr th {\n",
       "        vertical-align: top;\n",
       "    }\n",
       "\n",
       "    .dataframe thead th {\n",
       "        text-align: right;\n",
       "    }\n",
       "</style>\n",
       "<table border=\"1\" class=\"dataframe\">\n",
       "  <thead>\n",
       "    <tr style=\"text-align: right;\">\n",
       "      <th></th>\n",
       "      <th>insta_pic_date</th>\n",
       "      <th>insta_pic_link</th>\n",
       "      <th>left</th>\n",
       "      <th>centre</th>\n",
       "      <th>right</th>\n",
       "      <th>holy_order</th>\n",
       "    </tr>\n",
       "  </thead>\n",
       "  <tbody>\n",
       "    <tr>\n",
       "      <th>0</th>\n",
       "      <td>May 19, 2021</td>\n",
       "      <td>https://www.instagram.com/p/CPDqngVp2MG/?hl=en</td>\n",
       "      <td>naomi</td>\n",
       "      <td>katie</td>\n",
       "      <td>josette</td>\n",
       "      <td>y</td>\n",
       "    </tr>\n",
       "    <tr>\n",
       "      <th>2</th>\n",
       "      <td>September 1, 2021</td>\n",
       "      <td>https://www.instagram.com/p/CTSPV3-L-M2/?hl=en</td>\n",
       "      <td>naomi</td>\n",
       "      <td>katie</td>\n",
       "      <td>josette</td>\n",
       "      <td>y</td>\n",
       "    </tr>\n",
       "    <tr>\n",
       "      <th>7</th>\n",
       "      <td>September 9, 2021</td>\n",
       "      <td>https://www.instagram.com/p/CTkOqpbroin/?hl=en...</td>\n",
       "      <td>josette</td>\n",
       "      <td>katie</td>\n",
       "      <td>naomi</td>\n",
       "      <td>n</td>\n",
       "    </tr>\n",
       "    <tr>\n",
       "      <th>10</th>\n",
       "      <td>September 18, 2021</td>\n",
       "      <td>https://www.instagram.com/p/CT-DT_yLx2o/?hl=en...</td>\n",
       "      <td>naomi</td>\n",
       "      <td>katie</td>\n",
       "      <td>josette</td>\n",
       "      <td>y</td>\n",
       "    </tr>\n",
       "    <tr>\n",
       "      <th>11</th>\n",
       "      <td>September 24, 2021</td>\n",
       "      <td>https://www.instagram.com/p/CUNclmlL2pE/?hl=en</td>\n",
       "      <td>katie</td>\n",
       "      <td>josette</td>\n",
       "      <td>naomi</td>\n",
       "      <td>n</td>\n",
       "    </tr>\n",
       "    <tr>\n",
       "      <th>13</th>\n",
       "      <td>September 27, 2021</td>\n",
       "      <td>https://www.instagram.com/p/CUVRVkYp4xy/?hl=en...</td>\n",
       "      <td>naomi</td>\n",
       "      <td>katie</td>\n",
       "      <td>josette</td>\n",
       "      <td>y</td>\n",
       "    </tr>\n",
       "    <tr>\n",
       "      <th>14</th>\n",
       "      <td>September 28, 2021</td>\n",
       "      <td>https://www.instagram.com/p/CUX0cDap3oH/?hl=en...</td>\n",
       "      <td>josette</td>\n",
       "      <td>katie</td>\n",
       "      <td>naomi</td>\n",
       "      <td>n</td>\n",
       "    </tr>\n",
       "    <tr>\n",
       "      <th>17</th>\n",
       "      <td>October 14, 2021</td>\n",
       "      <td>https://www.instagram.com/p/CVBaiLZpInZ/?hl=en...</td>\n",
       "      <td>josette</td>\n",
       "      <td>naomi</td>\n",
       "      <td>katie</td>\n",
       "      <td>n</td>\n",
       "    </tr>\n",
       "    <tr>\n",
       "      <th>18</th>\n",
       "      <td>November 9, 2021</td>\n",
       "      <td>https://www.instagram.com/p/CWEaeCRBEjB/?hl=en...</td>\n",
       "      <td>naomi</td>\n",
       "      <td>katie</td>\n",
       "      <td>josette</td>\n",
       "      <td>y</td>\n",
       "    </tr>\n",
       "    <tr>\n",
       "      <th>19</th>\n",
       "      <td>November 9, 2021</td>\n",
       "      <td>https://www.instagram.com/p/CWEaeCRBEjB/?hl=en...</td>\n",
       "      <td>katie</td>\n",
       "      <td>josette</td>\n",
       "      <td>naomi</td>\n",
       "      <td>n</td>\n",
       "    </tr>\n",
       "  </tbody>\n",
       "</table>\n",
       "</div>"
      ],
      "text/plain": [
       "        insta_pic_date                                     insta_pic_link  \\\n",
       "0         May 19, 2021     https://www.instagram.com/p/CPDqngVp2MG/?hl=en   \n",
       "2    September 1, 2021     https://www.instagram.com/p/CTSPV3-L-M2/?hl=en   \n",
       "7    September 9, 2021  https://www.instagram.com/p/CTkOqpbroin/?hl=en...   \n",
       "10  September 18, 2021  https://www.instagram.com/p/CT-DT_yLx2o/?hl=en...   \n",
       "11  September 24, 2021    https://www.instagram.com/p/CUNclmlL2pE/?hl=en    \n",
       "13  September 27, 2021  https://www.instagram.com/p/CUVRVkYp4xy/?hl=en...   \n",
       "14  September 28, 2021  https://www.instagram.com/p/CUX0cDap3oH/?hl=en...   \n",
       "17    October 14, 2021  https://www.instagram.com/p/CVBaiLZpInZ/?hl=en...   \n",
       "18    November 9, 2021  https://www.instagram.com/p/CWEaeCRBEjB/?hl=en...   \n",
       "19    November 9, 2021  https://www.instagram.com/p/CWEaeCRBEjB/?hl=en...   \n",
       "\n",
       "       left   centre    right holy_order  \n",
       "0     naomi    katie  josette          y  \n",
       "2     naomi    katie  josette          y  \n",
       "7   josette    katie    naomi          n  \n",
       "10    naomi    katie  josette          y  \n",
       "11    katie  josette    naomi          n  \n",
       "13    naomi    katie  josette          y  \n",
       "14  josette    katie    naomi          n  \n",
       "17  josette    naomi    katie          n  \n",
       "18    naomi    katie  josette          y  \n",
       "19    katie  josette    naomi          n  "
      ]
     },
     "execution_count": 23,
     "metadata": {},
     "output_type": "execute_result"
    }
   ],
   "source": [
    "df.head(10)"
   ]
  },
  {
   "cell_type": "code",
   "execution_count": 11,
   "id": "b0319747-4d4a-4a25-8001-872b6af186f1",
   "metadata": {},
   "outputs": [
    {
     "data": {
      "text/plain": [
       "holy_order\n",
       "n    93\n",
       "y    81\n",
       "Name: count, dtype: int64"
      ]
     },
     "execution_count": 11,
     "metadata": {},
     "output_type": "execute_result"
    }
   ],
   "source": [
    "df.holy_order.value_counts()"
   ]
  },
  {
   "cell_type": "code",
   "execution_count": 24,
   "id": "dad65977-4f02-4421-814d-71f4c15fa0b3",
   "metadata": {},
   "outputs": [
    {
     "data": {
      "text/plain": [
       "174"
      ]
     },
     "execution_count": 24,
     "metadata": {},
     "output_type": "execute_result"
    }
   ],
   "source": [
    "len(df)"
   ]
  },
  {
   "cell_type": "code",
   "execution_count": 13,
   "id": "f198029c-e859-4aed-891a-534d892b7e2b",
   "metadata": {},
   "outputs": [
    {
     "data": {
      "text/plain": [
       "left\n",
       "naomi      105\n",
       "josette     46\n",
       "katie       23\n",
       "Name: count, dtype: int64"
      ]
     },
     "execution_count": 13,
     "metadata": {},
     "output_type": "execute_result"
    }
   ],
   "source": [
    "#I want to find out who stands on the left most often\n",
    "df_left = df.left.value_counts()\n",
    "df_left"
   ]
  },
  {
   "cell_type": "code",
   "execution_count": 51,
   "id": "8a5969c8-b9cc-462a-aeb0-bcd9c9aa301e",
   "metadata": {},
   "outputs": [],
   "source": [
    "#I want to plot it in a single stacked bar\n",
    "#First of all, do they meet the holy order?\n",
    "\n",
    "#df[['holy_order']].T.plot.barh(stacked=True, legend=False) - error \"no numeric data to plot\"\n",
    "\n",
    "#Conclusion - ultimately, never use matplotlib"
   ]
  },
  {
   "cell_type": "code",
   "execution_count": 16,
   "id": "2f2c5f88-a5ff-45ea-9bfc-5c1f2fe43b44",
   "metadata": {},
   "outputs": [
    {
     "data": {
      "text/plain": [
       "centre\n",
       "katie      117\n",
       "josette     38\n",
       "naomi       19\n",
       "Name: count, dtype: int64"
      ]
     },
     "execution_count": 16,
     "metadata": {},
     "output_type": "execute_result"
    }
   ],
   "source": [
    "df_centre = df.centre.value_counts()\n",
    "df_centre"
   ]
  },
  {
   "cell_type": "code",
   "execution_count": 18,
   "id": "76f32fa6-5a05-493c-8806-aec882633d6a",
   "metadata": {},
   "outputs": [
    {
     "data": {
      "text/plain": [
       "right\n",
       "josette    90\n",
       "naomi      50\n",
       "katie      34\n",
       "Name: count, dtype: int64"
      ]
     },
     "execution_count": 18,
     "metadata": {},
     "output_type": "execute_result"
    }
   ],
   "source": [
    "df_right = df.right.value_counts()\n",
    "df_right"
   ]
  },
  {
   "cell_type": "code",
   "execution_count": null,
   "id": "b944df76-31a3-414d-9b75-a80ce0bf9725",
   "metadata": {},
   "outputs": [],
   "source": [
    "#Does the standing pattern change with regards to timeframe?\n",
    "#AKA how many times did Naomi stand on the left in 2021 vs. 2022 and 2023?"
   ]
  },
  {
   "cell_type": "code",
   "execution_count": 28,
   "id": "19cc798e-39c8-4823-9f72-2e3a83773a72",
   "metadata": {},
   "outputs": [
    {
     "data": {
      "text/plain": [
       "holy_order\n",
       "n    93\n",
       "y    81\n",
       "Name: count, dtype: int64"
      ]
     },
     "execution_count": 28,
     "metadata": {},
     "output_type": "execute_result"
    }
   ],
   "source": [
    "df['holy_order'].value_counts()"
   ]
  },
  {
   "cell_type": "code",
   "execution_count": 29,
   "id": "77da4fd3-9539-4b22-a12d-6f2cd5d7743b",
   "metadata": {},
   "outputs": [],
   "source": [
    "#Is the result above (i.e. the holy_order is not usually the case) because Josette appears to be a standing verse? Lmao."
   ]
  },
  {
   "cell_type": "code",
   "execution_count": 37,
   "id": "93086f36-9712-465e-ae5d-1b2ea4007712",
   "metadata": {},
   "outputs": [],
   "source": [
    "twenty_one_year_results = df[df.insta_pic_date.str.contains(\", 2021\")]"
   ]
  },
  {
   "cell_type": "code",
   "execution_count": 38,
   "id": "1c385e33-aed7-465d-bb63-c3493fed5ab7",
   "metadata": {},
   "outputs": [],
   "source": [
    "twenty_two_year_results = df[df.insta_pic_date.str.contains(\", 2022\")]"
   ]
  },
  {
   "cell_type": "code",
   "execution_count": 39,
   "id": "621f3bc1-ecaf-4f9b-ac73-8ccdd1e81de6",
   "metadata": {},
   "outputs": [],
   "source": [
    "twenty_three_year_results = df[df.insta_pic_date.str.contains(\", 2023\")]"
   ]
  },
  {
   "cell_type": "code",
   "execution_count": 40,
   "id": "1682ae42-26a7-4a4f-aa7b-5c235c869386",
   "metadata": {},
   "outputs": [],
   "source": [
    "twenty_four_year_results = df[df.insta_pic_date.str.contains(\", 2024\")]"
   ]
  },
  {
   "cell_type": "markdown",
   "id": "7907883e-5d2d-4e5a-8bd5-595079290b82",
   "metadata": {},
   "source": [
    "Did anyone stand on the left more or less over the years? (2021 - 2024)"
   ]
  },
  {
   "cell_type": "code",
   "execution_count": 41,
   "id": "8ef72d23-5559-4cd0-ad0e-700b155ffed4",
   "metadata": {},
   "outputs": [
    {
     "data": {
      "text/plain": [
       "left\n",
       "naomi      9\n",
       "josette    4\n",
       "katie      1\n",
       "Name: count, dtype: int64"
      ]
     },
     "execution_count": 41,
     "metadata": {},
     "output_type": "execute_result"
    }
   ],
   "source": [
    "twenty_four_year_results['left'].value_counts()"
   ]
  },
  {
   "cell_type": "code",
   "execution_count": 42,
   "id": "4cb5e42c-dd51-4c41-897d-07cfb975183b",
   "metadata": {},
   "outputs": [
    {
     "data": {
      "text/plain": [
       "left\n",
       "naomi      43\n",
       "josette    24\n",
       "katie       8\n",
       "Name: count, dtype: int64"
      ]
     },
     "execution_count": 42,
     "metadata": {},
     "output_type": "execute_result"
    }
   ],
   "source": [
    "twenty_three_year_results['left'].value_counts()"
   ]
  },
  {
   "cell_type": "code",
   "execution_count": 43,
   "id": "2900b96c-416b-4d98-9b6c-89d72acd1ae6",
   "metadata": {},
   "outputs": [
    {
     "data": {
      "text/plain": [
       "left\n",
       "naomi      47\n",
       "josette    15\n",
       "katie      11\n",
       "Name: count, dtype: int64"
      ]
     },
     "execution_count": 43,
     "metadata": {},
     "output_type": "execute_result"
    }
   ],
   "source": [
    "twenty_two_year_results['left'].value_counts()"
   ]
  },
  {
   "cell_type": "code",
   "execution_count": 44,
   "id": "4135c17a-dc8d-475b-a8a2-6d3cc8070481",
   "metadata": {},
   "outputs": [
    {
     "data": {
      "text/plain": [
       "left\n",
       "naomi      6\n",
       "josette    3\n",
       "katie      3\n",
       "Name: count, dtype: int64"
      ]
     },
     "execution_count": 44,
     "metadata": {},
     "output_type": "execute_result"
    }
   ],
   "source": [
    "twenty_one_year_results['left'].value_counts()"
   ]
  },
  {
   "cell_type": "markdown",
   "id": "77fcc7a6-59f1-439b-ba08-64e439cf987f",
   "metadata": {},
   "source": [
    "So Naomi has really consistently loved the left, it seems."
   ]
  },
  {
   "cell_type": "markdown",
   "id": "966f23e6-8279-46d4-9762-9ad6bf351702",
   "metadata": {},
   "source": [
    "What about the right?"
   ]
  },
  {
   "cell_type": "code",
   "execution_count": 45,
   "id": "1785fb2f-18c3-4dba-820a-114cf025bd5d",
   "metadata": {},
   "outputs": [
    {
     "data": {
      "text/plain": [
       "right\n",
       "josette    10\n",
       "naomi       3\n",
       "katie       1\n",
       "Name: count, dtype: int64"
      ]
     },
     "execution_count": 45,
     "metadata": {},
     "output_type": "execute_result"
    }
   ],
   "source": [
    "twenty_four_year_results['right'].value_counts()"
   ]
  },
  {
   "cell_type": "code",
   "execution_count": 46,
   "id": "1b3dd123-da63-435b-bb1f-8aae5861091c",
   "metadata": {},
   "outputs": [
    {
     "data": {
      "text/plain": [
       "right\n",
       "josette    37\n",
       "naomi      25\n",
       "katie      13\n",
       "Name: count, dtype: int64"
      ]
     },
     "execution_count": 46,
     "metadata": {},
     "output_type": "execute_result"
    }
   ],
   "source": [
    "twenty_three_year_results['right'].value_counts()"
   ]
  },
  {
   "cell_type": "code",
   "execution_count": 47,
   "id": "3b124dd4-6e6a-46d4-9bd3-c43a848c84e8",
   "metadata": {},
   "outputs": [
    {
     "data": {
      "text/plain": [
       "right\n",
       "josette    37\n",
       "katie      19\n",
       "naomi      17\n",
       "Name: count, dtype: int64"
      ]
     },
     "execution_count": 47,
     "metadata": {},
     "output_type": "execute_result"
    }
   ],
   "source": [
    "twenty_two_year_results['right'].value_counts()"
   ]
  },
  {
   "cell_type": "code",
   "execution_count": 48,
   "id": "f834debd-2999-4560-be6f-04a98ef3fe77",
   "metadata": {},
   "outputs": [
    {
     "data": {
      "text/plain": [
       "right\n",
       "josette    6\n",
       "naomi      5\n",
       "katie      1\n",
       "Name: count, dtype: int64"
      ]
     },
     "execution_count": 48,
     "metadata": {},
     "output_type": "execute_result"
    }
   ],
   "source": [
    "twenty_one_year_results['right'].value_counts()"
   ]
  },
  {
   "cell_type": "code",
   "execution_count": 63,
   "id": "794575b7-a050-4ff8-bccd-62339adb5017",
   "metadata": {},
   "outputs": [
    {
     "data": {
      "text/html": [
       "<div>\n",
       "<style scoped>\n",
       "    .dataframe tbody tr th:only-of-type {\n",
       "        vertical-align: middle;\n",
       "    }\n",
       "\n",
       "    .dataframe tbody tr th {\n",
       "        vertical-align: top;\n",
       "    }\n",
       "\n",
       "    .dataframe thead th {\n",
       "        text-align: right;\n",
       "    }\n",
       "</style>\n",
       "<table border=\"1\" class=\"dataframe\">\n",
       "  <thead>\n",
       "    <tr style=\"text-align: right;\">\n",
       "      <th></th>\n",
       "      <th>insta_pic_date</th>\n",
       "      <th>insta_pic_link</th>\n",
       "      <th>left</th>\n",
       "      <th>centre</th>\n",
       "      <th>right</th>\n",
       "      <th>holy_order</th>\n",
       "    </tr>\n",
       "  </thead>\n",
       "  <tbody>\n",
       "    <tr>\n",
       "      <th>0</th>\n",
       "      <td>May 19, 2021</td>\n",
       "      <td>https://www.instagram.com/p/CPDqngVp2MG/?hl=en</td>\n",
       "      <td>naomi</td>\n",
       "      <td>katie</td>\n",
       "      <td>josette</td>\n",
       "      <td>y</td>\n",
       "    </tr>\n",
       "    <tr>\n",
       "      <th>2</th>\n",
       "      <td>September 1, 2021</td>\n",
       "      <td>https://www.instagram.com/p/CTSPV3-L-M2/?hl=en</td>\n",
       "      <td>naomi</td>\n",
       "      <td>katie</td>\n",
       "      <td>josette</td>\n",
       "      <td>y</td>\n",
       "    </tr>\n",
       "    <tr>\n",
       "      <th>7</th>\n",
       "      <td>September 9, 2021</td>\n",
       "      <td>https://www.instagram.com/p/CTkOqpbroin/?hl=en...</td>\n",
       "      <td>josette</td>\n",
       "      <td>katie</td>\n",
       "      <td>naomi</td>\n",
       "      <td>n</td>\n",
       "    </tr>\n",
       "  </tbody>\n",
       "</table>\n",
       "</div>"
      ],
      "text/plain": [
       "      insta_pic_date                                     insta_pic_link  \\\n",
       "0       May 19, 2021     https://www.instagram.com/p/CPDqngVp2MG/?hl=en   \n",
       "2  September 1, 2021     https://www.instagram.com/p/CTSPV3-L-M2/?hl=en   \n",
       "7  September 9, 2021  https://www.instagram.com/p/CTkOqpbroin/?hl=en...   \n",
       "\n",
       "      left centre    right holy_order  \n",
       "0    naomi  katie  josette          y  \n",
       "2    naomi  katie  josette          y  \n",
       "7  josette  katie    naomi          n  "
      ]
     },
     "execution_count": 63,
     "metadata": {},
     "output_type": "execute_result"
    }
   ],
   "source": [
    "df.head(3)"
   ]
  },
  {
   "cell_type": "code",
   "execution_count": 49,
   "id": "b5691a1d-7e2f-49c5-9445-29ba35b80a59",
   "metadata": {},
   "outputs": [],
   "source": [
    "import matplotlib.pyplot as plt"
   ]
  },
  {
   "cell_type": "code",
   "execution_count": 67,
   "id": "43649b24-1ba0-4895-a9c6-28bff9662c88",
   "metadata": {},
   "outputs": [
    {
     "data": {
      "text/plain": [
       "<Axes: title={'center': \"MUNA doesn't actually always stand in the same order\"}, xlabel='holy_order'>"
      ]
     },
     "execution_count": 67,
     "metadata": {},
     "output_type": "execute_result"
    },
    {
     "data": {
      "image/png": "[encoded data removed]",
      "text/plain": [
       "<Figure size 640x480 with 1 Axes>"
      ]
     },
     "metadata": {},
     "output_type": "display_data"
    }
   ],
   "source": [
    "#df.plot(kind=\"bar\", x= \"holy_order\", stacked=True, title= \"How often MUNA was standing in holy order from 2021-2024\")\n",
    "#used this for reference: https://www.geeksforgeeks.org/create-a-stacked-bar-plot-in-matplotlib/\n",
    "#^ problem was no numerical data\n",
    "\n",
    "#df.plot(kind=\"bar\", x= \"holy_order\", stacked=True, title= \"How often MUNA was standing in holy order from 2021-2024\")\n",
    "\n",
    "#I want an initial single stacked bar graph showing the amount of holy order vs. the amount of non-holy order \n",
    "#(do I need to convert to percentage?)\n",
    "df.groupby(['holy_order']).size().plot(kind='bar', stacked=True, title= \"MUNA doesn't actually always stand in the same order\")\n",
    "\n",
    "#https://stackoverflow.com/questions/64805422/how-to-a-create-stacked-bar-chart-from-2-non-numeric-columns-using-python\n"
   ]
  },
  {
   "cell_type": "code",
   "execution_count": 69,
   "id": "a3f1434c-f073-4f4a-ac62-59240067b162",
   "metadata": {},
   "outputs": [
    {
     "data": {
      "text/plain": [
       "<Axes: title={'center': 'Naomi enjoys standing on the left'}, xlabel='left'>"
      ]
     },
     "execution_count": 69,
     "metadata": {},
     "output_type": "execute_result"
    },
    {
     "data": {
      "image/png": "[encoded data removed]",
      "text/plain": [
       "<Figure size 640x480 with 1 Axes>"
      ]
     },
     "metadata": {},
     "output_type": "display_data"
    }
   ],
   "source": [
    "df.groupby(['left']).size().plot(kind='bar', stacked=True, title= \"Naomi enjoys standing on the left\")\n"
   ]
  },
  {
   "cell_type": "code",
   "execution_count": 12,
   "id": "f9c09a80-ef49-4fa6-a5eb-3b3b329e3d80",
   "metadata": {},
   "outputs": [],
   "source": [
    "#ok I should use datawrapper for my maps, not plt\n",
    "#copying my data to paste in datawrapper\n",
    "df.to_clipboard(index=False)"
   ]
  }
 ],
 "metadata": {
  "kernelspec": {
   "display_name": "Python 3 (ipykernel)",
   "language": "python",
   "name": "python3"
  },
  "language_info": {
   "codemirror_mode": {
    "name": "ipython",
    "version": 3
   },
   "file_extension": ".py",
   "mimetype": "text/x-python",
   "name": "python",
   "nbconvert_exporter": "python",
   "pygments_lexer": "ipython3",
   "version": "3.11.9"
  }
 },
 "nbformat": 4,
 "nbformat_minor": 5
}
